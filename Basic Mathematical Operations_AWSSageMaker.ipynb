{
 "cells": [
  {
   "cell_type": "code",
   "execution_count": 1,
   "metadata": {},
   "outputs": [],
   "source": [
    "def a_fn():\n",
    "    x=int(input(\"Enter first number \"))\n",
    "    y= int(input(\"Enter second number \"))\n",
    "    addition(x,y)\n",
    "def addition(num1,num2):\n",
    "    num3= num1+num2\n",
    "    subtraction(num1,num2)\n",
    "    return print(\"Sum of the numbers are\",num3)\n",
    "def subtraction(num1,num2):\n",
    "    multiplication(num1,num2)\n",
    "    if(num1>num2):\n",
    "        a= num1-num2\n",
    "        return print(\"Difference of the numbers are \",a)\n",
    "    else:\n",
    "        a= num2-num1\n",
    "        return print(\"Difference of the numbers are \",a)\n",
    "def multiplication(num1,num2):\n",
    "    division(num1,num2)\n",
    "    num4= num1*num2\n",
    "    return print(\"Multiplication of the numbers are\",num4)\n",
    "def division(num1,num2):\n",
    "    if(num2 != 0):\n",
    "        num4= num1/num2\n",
    "        return print(\"Division of the numbers are\",num4)\n",
    "    else:\n",
    "        print(\"Division is not possible as denominator is 0\")"
   ]
  },
  {
   "cell_type": "code",
   "execution_count": 2,
   "metadata": {},
   "outputs": [
    {
     "name": "stdout",
     "output_type": "stream",
     "text": [
      "Enter first number 87\n",
      "Enter second number 58\n",
      "Division of the numbers are 1.5\n",
      "Multiplication of the numbers are 5046\n",
      "Difference of the numbers are  29\n",
      "Sum of the numbers are 145\n"
     ]
    }
   ],
   "source": [
    "a_fn()"
   ]
  },
  {
   "cell_type": "code",
   "execution_count": null,
   "metadata": {},
   "outputs": [],
   "source": []
  }
 ],
 "metadata": {
  "kernelspec": {
   "display_name": "conda_python3",
   "language": "python",
   "name": "conda_python3"
  },
  "language_info": {
   "codemirror_mode": {
    "name": "ipython",
    "version": 3
   },
   "file_extension": ".py",
   "mimetype": "text/x-python",
   "name": "python",
   "nbconvert_exporter": "python",
   "pygments_lexer": "ipython3",
   "version": "3.6.5"
  }
 },
 "nbformat": 4,
 "nbformat_minor": 4
}
